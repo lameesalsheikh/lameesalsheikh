{
  "nbformat": 4,
  "nbformat_minor": 0,
  "metadata": {
    "colab": {
      "provenance": []
    },
    "kernelspec": {
      "name": "python3",
      "display_name": "Python 3"
    },
    "language_info": {
      "name": "python"
    }
  },
  "cells": [
    {
      "cell_type": "code",
      "execution_count": null,
      "metadata": {
        "colab": {
          "base_uri": "https://localhost:8080/"
        },
        "id": "e1gU3epHvJG-",
        "outputId": "9c3166f9-a722-428d-b647-a2140cf30abf"
      },
      "outputs": [
        {
          "output_type": "stream",
          "name": "stdout",
          "text": [
            "enter ur wordlamees\n",
            "3\n"
          ]
        }
      ],
      "source": [
        "#string1\n",
        "def vowel_count(count):\n",
        " vowel=\"a,o,u,e,i\"\n",
        " count=0\n",
        " test=str(input(\"enter ur word   \"))\n",
        " for i in range (len(test)):\n",
        "  if test[i] in vouel:\n",
        "    count+=1\n",
        " return count\n",
        "print(vowel_count(test))"
      ]
    },
    {
      "cell_type": "code",
      "source": [
        "#string 2\n",
        "def upper(test):\n",
        "  test=str(input(\"enter ur word\"))\n",
        "  return test.upper()\n",
        "print(upper(test))"
      ],
      "metadata": {
        "colab": {
          "base_uri": "https://localhost:8080/"
        },
        "id": "7GJimhvlz_tk",
        "outputId": "ef10e03a-f82d-415a-fc1e-013c14c97f6c"
      },
      "execution_count": null,
      "outputs": [
        {
          "output_type": "stream",
          "name": "stdout",
          "text": [
            "enter ur wordlolo\n",
            "LOLO\n"
          ]
        }
      ]
    },
    {
      "cell_type": "code",
      "source": [
        "#list 1\n",
        "def even1(even):\n",
        "  list1=[1,2,3,4,5,6,7,8,9,10]\n",
        "  even=[i for i in list1 if i%2 ==0]\n",
        "  return even\n",
        "print(even1(even))\n"
      ],
      "metadata": {
        "colab": {
          "base_uri": "https://localhost:8080/"
        },
        "id": "PUAONWs63Jyp",
        "outputId": "95591648-cd88-4c18-9ed4-247fbe06c679"
      },
      "execution_count": 18,
      "outputs": [
        {
          "output_type": "stream",
          "name": "stdout",
          "text": [
            "[2, 4, 6, 8, 10]\n"
          ]
        }
      ]
    },
    {
      "cell_type": "code",
      "source": [
        "# list 2\n",
        "def ls (dup):\n",
        "  list1=[1,7,3,4,7,6,8,8,9,10]\n",
        "  dup=[]\n",
        "  for i in list1 :\n",
        "   if i not in dup:\n",
        "     dup.append(i)\n",
        "  return dup\n",
        "print(ls(dup=6))\n"
      ],
      "metadata": {
        "colab": {
          "base_uri": "https://localhost:8080/"
        },
        "id": "D3yapaJn-gHX",
        "outputId": "0a395475-7701-455c-f8be-cdc45dd9a6dd"
      },
      "execution_count": 23,
      "outputs": [
        {
          "output_type": "stream",
          "name": "stdout",
          "text": [
            "[1, 7, 3, 4, 6, 8, 9, 10]\n"
          ]
        }
      ]
    },
    {
      "cell_type": "code",
      "source": [
        "#set\n",
        "def inter(inter):\n",
        "    set1=set(input(\"enter set valus\"))\n",
        "    set2=set(input(\"enter set valus\"))\n",
        "    inter=set1.intersection(set2)\n",
        "    return inter\n",
        "print (inter(inter))"
      ],
      "metadata": {
        "colab": {
          "base_uri": "https://localhost:8080/"
        },
        "id": "98ZkOmZRBVVt",
        "outputId": "778501ce-e119-452f-c5b5-40a8672f85f1"
      },
      "execution_count": 5,
      "outputs": [
        {
          "output_type": "stream",
          "name": "stdout",
          "text": [
            "enter set valus1,2,3,4\n",
            "enter set valus3,4,5\n",
            "{'4', '3', ','}\n"
          ]
        }
      ]
    },
    {
      "cell_type": "code",
      "source": [
        "#set\n",
        "def union(newset):\n",
        "  set1=set(input(\"enter set valus\"))\n",
        "  set2=set(input(\"enter set valus\"))\n",
        "  newset=set1.union(set2)\n",
        "  return newset\n",
        "print (union(newset=12))"
      ],
      "metadata": {
        "colab": {
          "base_uri": "https://localhost:8080/"
        },
        "outputId": "04e18347-6013-4ca4-cf8d-1aa09a5cdf9f",
        "id": "L-Gs4H3TCHxu"
      },
      "execution_count": 30,
      "outputs": [
        {
          "output_type": "stream",
          "name": "stdout",
          "text": [
            "enter set valus2,3,4,5\n",
            "enter set valus4,5,6,7\n",
            "{'6', '7', '5', '2', ',', '3', '4'}\n"
          ]
        }
      ]
    },
    {
      "cell_type": "code",
      "source": [
        "#sort tuples\n",
        "def sort_tuples(tuple_list):\n",
        "  sorted_list = sorted(tuple_list, key=lambda x: x[1])\n",
        "  return sorted_list"
      ],
      "metadata": {
        "id": "pBl-wWirbF7Q"
      },
      "execution_count": 35,
      "outputs": []
    },
    {
      "cell_type": "code",
      "source": [
        "# resverse\n",
        "def reverse_tuple(input_tuple):\n",
        "    reversed_tuple = input_tuple[::-1]\n",
        "    return reversed_tuple"
      ],
      "metadata": {
        "id": "4NsfUBcccv9B"
      },
      "execution_count": null,
      "outputs": []
    },
    {
      "cell_type": "code",
      "source": [
        "#dic\n",
        "def extract_keys_and_values(input_dict):\n",
        "    keys_list = list(input_dict.keys())\n",
        "    values_list = list(input_dict.values())\n",
        "    return keys_list, values_list"
      ],
      "metadata": {
        "id": "lK1qzHNKfFU_"
      },
      "execution_count": null,
      "outputs": []
    }
  ]
}